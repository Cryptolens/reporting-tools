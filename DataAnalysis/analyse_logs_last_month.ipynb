{
 "cells": [
  {
   "cell_type": "markdown",
   "metadata": {},
   "source": [
    "# Analysing Web API Log"
   ]
  },
  {
   "cell_type": "markdown",
   "metadata": {},
   "source": [
    "## Load the data\n",
    "\n",
    "We will retrieve all the logs 1 month back."
   ]
  },
  {
   "cell_type": "code",
   "execution_count": 35,
   "metadata": {},
   "outputs": [],
   "source": [
    "from datetime import datetime, timedelta, date\n",
    "\n",
    "from licensing.models import *\n",
    "from licensing.methods import Key, Helpers\n",
    "\n",
    "import pandas as pd\n",
    "import matplotlib.pyplot as plt\n",
    "\n",
    "from tools import *\n",
    "\n",
    "month_back = int(datetime.datetime.timestamp(datetime.datetime.today() - datetime.timedelta(days=30)))\n",
    "\n",
    "logs = []\n",
    "\n",
    "ending_before=0\n",
    "\n",
    "\"\"\"\n",
    "Loading the data\n",
    "\"\"\"\n",
    "while True:\n",
    "    res = Key.get_web_api_log(token=get_api_token(), order_by=\"Id descending\", limit = 1000, ending_before=ending_before)\n",
    "    \n",
    "    if res[0] == None:\n",
    "        break\n",
    "    \n",
    "    logs = logs + res[0]\n",
    "    \n",
    "    if res[0][-1][\"time\"] < month_back:\n",
    "        break;\n",
    "        \n",
    "    ending_before = res[0][-1][\"id\"] \n",
    "    \n",
    "logs = pd.DataFrame(logs)\n",
    "logs = logs[logs[\"time\"]>month_back]\n"
   ]
  },
  {
   "cell_type": "markdown",
   "metadata": {},
   "source": [
    "## Analyse the logs"
   ]
  },
  {
   "cell_type": "code",
   "execution_count": 36,
   "metadata": {},
   "outputs": [
    {
     "data": {
      "text/plain": [
       "<matplotlib.axes._subplots.AxesSubplot at 0x1f71ceda438>"
      ]
     },
     "execution_count": 36,
     "metadata": {},
     "output_type": "execute_result"
    },
    {
     "data": {
      "image/png": "[encoded data removed]",
      "text/plain": [
       "<Figure size 432x288 with 1 Axes>"
      ]
     },
     "metadata": {
      "needs_background": "light"
     },
     "output_type": "display_data"
    }
   ],
   "source": [
    "def success(state):\n",
    "    return state % 100 // 10 - 1\n",
    "\n",
    "logs[\"Success\"] = success(logs[\"state\"])\n",
    "logs[logs[\"Success\"]== 0] = \"Success\"\n",
    "logs[logs[\"Success\"]== 1] = \"Failure\"\n",
    "\n",
    "logs[\"Success\"].value_counts(normalize=True).plot(kind=\"bar\", title='Successful vs. unsuccessful API requests')"
   ]
  },
  {
   "cell_type": "code",
   "execution_count": null,
   "metadata": {},
   "outputs": [],
   "source": []
  }
 ],
 "metadata": {
  "kernelspec": {
   "display_name": "Python 3",
   "language": "python",
   "name": "python3"
  },
  "language_info": {
   "codemirror_mode": {
    "name": "ipython",
    "version": 3
   },
   "file_extension": ".py",
   "mimetype": "text/x-python",
   "name": "python",
   "nbconvert_exporter": "python",
   "pygments_lexer": "ipython3",
   "version": "3.6.10"
  }
 },
 "nbformat": 4,
 "nbformat_minor": 4
}
